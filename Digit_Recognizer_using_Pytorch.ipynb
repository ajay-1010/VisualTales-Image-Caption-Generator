{
  "nbformat": 4,
  "nbformat_minor": 0,
  "metadata": {
    "colab": {
      "provenance": []
    },
    "kernelspec": {
      "name": "python3",
      "display_name": "Python 3"
    },
    "language_info": {
      "name": "python"
    }
  },
  "cells": [
    {
      "cell_type": "markdown",
      "source": [
        "# Implementing a digit recognizer model using Pytorch."
      ],
      "metadata": {
        "id": "CIbARlMxhCv9"
      }
    },
    {
      "cell_type": "markdown",
      "source": [
        "# Importing Libraries"
      ],
      "metadata": {
        "id": "Lj2ryzuYmA-Z"
      }
    },
    {
      "cell_type": "code",
      "source": [
        "import torch\n",
        "import torch.nn as nn\n",
        "import torch.optim as optim\n",
        "import torch.nn.functional as F\n",
        "from torchvision import datasets, transforms\n",
        "from torch.utils.data import DataLoader\n",
        "import matplotlib.pyplot as plt"
      ],
      "metadata": {
        "id": "T5CkHRh9g4Cx"
      },
      "execution_count": 24,
      "outputs": []
    },
    {
      "cell_type": "markdown",
      "source": [
        "# Data Loading: Load the MNIST dataset using data loading utilities."
      ],
      "metadata": {
        "id": "cl4oLcl6fgG4"
      }
    },
    {
      "cell_type": "code",
      "source": [
        "transform = transforms.Compose([\n",
        "    transforms.ToTensor(),\n",
        "    transforms.Normalize((0.1307,), (0.3081,))\n",
        "])\n",
        "\n",
        "train_dataset = datasets.MNIST(root='./data', train=True, download=True, transform=transform)\n",
        "test_dataset = datasets.MNIST(root='./data', train=False, download=True, transform=transform)\n",
        "\n",
        "train_loader = DataLoader(train_dataset, batch_size=64, shuffle=True)\n",
        "test_loader = DataLoader(test_dataset, batch_size=1000, shuffle=False)"
      ],
      "metadata": {
        "id": "C5LWE67Kfeap"
      },
      "execution_count": 25,
      "outputs": []
    },
    {
      "cell_type": "markdown",
      "source": [
        "# Model Definition: Creating a neural network model for digit recognition."
      ],
      "metadata": {
        "id": "AYZ-MR-yf9SS"
      }
    },
    {
      "cell_type": "code",
      "source": [
        "\n",
        "class DigitRecognizer(nn.Module):\n",
        "    def __init__(self):\n",
        "        super(DigitRecognizer, self).__init__()\n",
        "        self.fc1 = nn.Linear(28*28, 128)\n",
        "        self.fc2 = nn.Linear(128, 64)\n",
        "        self.fc3 = nn.Linear(64, 10)\n",
        "\n",
        "    def forward(self, x):\n",
        "        x = x.view(-1, 28*28)\n",
        "        x = F.relu(self.fc1(x))\n",
        "        x = F.relu(self.fc2(x))\n",
        "        x = self.fc3(x)\n",
        "        return F.log_softmax(x, dim=1)\n",
        "\n",
        "model = DigitRecognizer()\n"
      ],
      "metadata": {
        "id": "gHWLETWqf0YY"
      },
      "execution_count": 26,
      "outputs": []
    },
    {
      "cell_type": "markdown",
      "source": [
        "# Training: Training model on the training set of the MNIST dataset by using an appropriate loss function and optimizer."
      ],
      "metadata": {
        "id": "KBUEOrX3gJ03"
      }
    },
    {
      "cell_type": "code",
      "source": [
        "optimizer = optim.Adam(model.parameters(), lr=0.001)\n",
        "criterion = nn.CrossEntropyLoss()\n",
        "\n",
        "def train(model, train_loader, optimizer, criterion, epoch):\n",
        "    model.train()\n",
        "    for batch_idx, (data, target) in enumerate(train_loader):\n",
        "        optimizer.zero_grad()\n",
        "        output = model(data)\n",
        "        loss = criterion(output, target)\n",
        "        loss.backward()\n",
        "        optimizer.step()\n",
        "        if batch_idx % 100 == 0:\n",
        "            print(f'Train Epoch: {epoch} [{batch_idx * len(data)}/{len(train_loader.dataset)}] Loss: {loss.item():.6f}')"
      ],
      "metadata": {
        "id": "F7GYpMtUgCbc"
      },
      "execution_count": 27,
      "outputs": []
    },
    {
      "cell_type": "markdown",
      "source": [
        "# Validation: Evaluate the performance of your model on a separate validation set"
      ],
      "metadata": {
        "id": "LpwXGYa2gXF0"
      }
    },
    {
      "cell_type": "code",
      "source": [
        "def validate(model, test_loader, criterion):\n",
        "    model.eval()\n",
        "    test_loss = 0\n",
        "    correct = 0\n",
        "    with torch.no_grad():\n",
        "        for data, target in test_loader:\n",
        "            output = model(data)\n",
        "            test_loss += criterion(output, target).item()\n",
        "            pred = output.argmax(dim=1, keepdim=True)\n",
        "            correct += pred.eq(target.view_as(pred)).sum().item()\n",
        "    test_loss /= len(test_loader.dataset)\n",
        "    accuracy = 100. * correct / len(test_loader.dataset)\n",
        "    print(f'Validation set: Average loss: {test_loss:.4f}, Accuracy: {correct}/{len(test_loader.dataset)} ({accuracy:.0f}%)')\n",
        "    return test_loss, accuracy"
      ],
      "metadata": {
        "id": "hDu_E1KzgObZ"
      },
      "execution_count": 28,
      "outputs": []
    },
    {
      "cell_type": "markdown",
      "source": [
        "# Testing: Test your trained model on a test set that was not used during training or validation."
      ],
      "metadata": {
        "id": "5_ARDvxrgcUJ"
      }
    },
    {
      "cell_type": "code",
      "source": [
        "epochs = 5\n",
        "for epoch in range(1, epochs + 1):\n",
        "    train(model, train_loader, optimizer, criterion, epoch)\n",
        "    validate(model, test_loader, criterion)\n",
        "\n",
        "# Testing\n",
        "def test(model, test_loader):\n",
        "    model.eval()\n",
        "    correct = 0\n",
        "    with torch.no_grad():\n",
        "        for data, target in test_loader:\n",
        "            output = model(data)\n",
        "            pred = output.argmax(dim=1, keepdim=True)\n",
        "            correct += pred.eq(target.view_as(pred)).sum().item()\n",
        "    accuracy = 100. * correct / len(test_loader.dataset)\n",
        "    print(f'Test set: Accuracy: {correct}/{len(test_loader.dataset)} ({accuracy:.0f}%)')\n",
        "    return accuracy\n",
        "\n",
        "test_accuracy = test(model, test_loader)"
      ],
      "metadata": {
        "colab": {
          "base_uri": "https://localhost:8080/"
        },
        "id": "gG67CFDngbhC",
        "outputId": "4e9ba36e-1a3f-444b-f576-4242dadd1f19"
      },
      "execution_count": 29,
      "outputs": [
        {
          "output_type": "stream",
          "name": "stdout",
          "text": [
            "Train Epoch: 1 [0/60000] Loss: 2.336874\n",
            "Train Epoch: 1 [6400/60000] Loss: 0.454898\n",
            "Train Epoch: 1 [12800/60000] Loss: 0.213599\n",
            "Train Epoch: 1 [19200/60000] Loss: 0.327642\n",
            "Train Epoch: 1 [25600/60000] Loss: 0.105208\n",
            "Train Epoch: 1 [32000/60000] Loss: 0.213991\n",
            "Train Epoch: 1 [38400/60000] Loss: 0.135149\n",
            "Train Epoch: 1 [44800/60000] Loss: 0.098676\n",
            "Train Epoch: 1 [51200/60000] Loss: 0.206730\n",
            "Train Epoch: 1 [57600/60000] Loss: 0.062729\n",
            "Validation set: Average loss: 0.0001, Accuracy: 9604/10000 (96%)\n",
            "Train Epoch: 2 [0/60000] Loss: 0.134768\n",
            "Train Epoch: 2 [6400/60000] Loss: 0.214197\n",
            "Train Epoch: 2 [12800/60000] Loss: 0.107672\n",
            "Train Epoch: 2 [19200/60000] Loss: 0.147513\n",
            "Train Epoch: 2 [25600/60000] Loss: 0.178202\n",
            "Train Epoch: 2 [32000/60000] Loss: 0.222769\n",
            "Train Epoch: 2 [38400/60000] Loss: 0.048112\n",
            "Train Epoch: 2 [44800/60000] Loss: 0.076075\n",
            "Train Epoch: 2 [51200/60000] Loss: 0.161283\n",
            "Train Epoch: 2 [57600/60000] Loss: 0.087695\n",
            "Validation set: Average loss: 0.0001, Accuracy: 9682/10000 (97%)\n",
            "Train Epoch: 3 [0/60000] Loss: 0.046218\n",
            "Train Epoch: 3 [6400/60000] Loss: 0.029862\n",
            "Train Epoch: 3 [12800/60000] Loss: 0.085697\n",
            "Train Epoch: 3 [19200/60000] Loss: 0.077571\n",
            "Train Epoch: 3 [25600/60000] Loss: 0.052341\n",
            "Train Epoch: 3 [32000/60000] Loss: 0.015939\n",
            "Train Epoch: 3 [38400/60000] Loss: 0.169727\n",
            "Train Epoch: 3 [44800/60000] Loss: 0.125280\n",
            "Train Epoch: 3 [51200/60000] Loss: 0.120988\n",
            "Train Epoch: 3 [57600/60000] Loss: 0.134223\n",
            "Validation set: Average loss: 0.0001, Accuracy: 9712/10000 (97%)\n",
            "Train Epoch: 4 [0/60000] Loss: 0.070847\n",
            "Train Epoch: 4 [6400/60000] Loss: 0.018055\n",
            "Train Epoch: 4 [12800/60000] Loss: 0.102250\n",
            "Train Epoch: 4 [19200/60000] Loss: 0.024780\n",
            "Train Epoch: 4 [25600/60000] Loss: 0.083028\n",
            "Train Epoch: 4 [32000/60000] Loss: 0.191446\n",
            "Train Epoch: 4 [38400/60000] Loss: 0.036303\n",
            "Train Epoch: 4 [44800/60000] Loss: 0.045322\n",
            "Train Epoch: 4 [51200/60000] Loss: 0.066017\n",
            "Train Epoch: 4 [57600/60000] Loss: 0.073663\n",
            "Validation set: Average loss: 0.0001, Accuracy: 9695/10000 (97%)\n",
            "Train Epoch: 5 [0/60000] Loss: 0.035330\n",
            "Train Epoch: 5 [6400/60000] Loss: 0.031205\n",
            "Train Epoch: 5 [12800/60000] Loss: 0.006841\n",
            "Train Epoch: 5 [19200/60000] Loss: 0.014268\n",
            "Train Epoch: 5 [25600/60000] Loss: 0.053719\n",
            "Train Epoch: 5 [32000/60000] Loss: 0.043840\n",
            "Train Epoch: 5 [38400/60000] Loss: 0.064715\n",
            "Train Epoch: 5 [44800/60000] Loss: 0.027664\n",
            "Train Epoch: 5 [51200/60000] Loss: 0.078103\n",
            "Train Epoch: 5 [57600/60000] Loss: 0.053255\n",
            "Validation set: Average loss: 0.0001, Accuracy: 9741/10000 (97%)\n",
            "Test set: Accuracy: 9741/10000 (97%)\n"
          ]
        }
      ]
    },
    {
      "cell_type": "markdown",
      "source": [
        "# Visualize a few input images along with their corresponding predicted and actual labels."
      ],
      "metadata": {
        "id": "sIuYBxJAgnR3"
      }
    },
    {
      "cell_type": "code",
      "source": [
        "def visualize_predictions(model, test_loader):\n",
        "    model.eval()\n",
        "    data, target = next(iter(test_loader))\n",
        "    output = model(data)\n",
        "    pred = output.argmax(dim=1, keepdim=True)\n",
        "\n",
        "    fig = plt.figure(figsize=(10, 10))\n",
        "    for i in range(1, 10):\n",
        "        plt.subplot(3, 3, i)\n",
        "        plt.axis('off')\n",
        "        plt.imshow(data[i].numpy().squeeze(), cmap='gray')\n",
        "        plt.title(f'Pred: {pred[i].item()} Actual: {target[i].item()}')\n",
        "    plt.show()\n",
        "\n",
        "visualize_predictions(model, test_loader)"
      ],
      "metadata": {
        "colab": {
          "base_uri": "https://localhost:8080/",
          "height": 677
        },
        "id": "xFxws9i8girq",
        "outputId": "fbf914c7-a415-4e1c-ac25-8ba2aee4a7ab"
      },
      "execution_count": 30,
      "outputs": [
        {
          "output_type": "display_data",
          "data": {
            "text/plain": [
              "<Figure size 1000x1000 with 9 Axes>"
            ],
            "image/png": "[encoded data removed]"
          },
          "metadata": {}
        }
      ]
    },
    {
      "cell_type": "code",
      "source": [],
      "metadata": {
        "id": "5LVm4Ssngr6M"
      },
      "execution_count": 30,
      "outputs": []
    }
  ]
}