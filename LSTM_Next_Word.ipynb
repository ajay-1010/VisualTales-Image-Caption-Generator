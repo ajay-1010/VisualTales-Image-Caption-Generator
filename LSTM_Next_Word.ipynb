{
  "nbformat": 4,
  "nbformat_minor": 0,
  "metadata": {
    "colab": {
      "provenance": [],
      "gpuType": "T4",
      "authorship_tag": "ABX9TyMERsHk+SkQd3wkcRPz9cfm",
      "include_colab_link": true
    },
    "kernelspec": {
      "name": "python3",
      "display_name": "Python 3"
    },
    "language_info": {
      "name": "python"
    },
    "accelerator": "GPU"
  },
  "cells": [
    {
      "cell_type": "markdown",
      "metadata": {
        "id": "view-in-github",
        "colab_type": "text"
      },
      "source": [
        "<a href=\"https://colab.research.google.com/github/ajay-1010/VisualTales-Image-Caption-Generator/blob/main/LSTM_Next_Word.ipynb\" target=\"_parent\"><img src=\"https://colab.research.google.com/assets/colab-badge.svg\" alt=\"Open In Colab\"/></a>"
      ]
    },
    {
      "cell_type": "markdown",
      "source": [
        "LSTM Next Word\n"
      ],
      "metadata": {
        "id": "5BrXxZyspbH9"
      }
    },
    {
      "cell_type": "code",
      "source": [
        "import torch\n",
        "import torch.nn as nn\n",
        "import torch.optim as optim\n",
        "import numpy as np\n",
        "from torch.utils.data import DataLoader, Dataset\n",
        "\n",
        "# Sample small dataset\n",
        "text = \"hello world this is a simple example of an lstm based model for next word prediction using pytorch\";\n",
        "\n",
        "\n",
        "\n",
        "#Splits the text into individual words.\n",
        "#Creates a vocabulary from these words.\n",
        "#Maps each word to a unique index (integer) and vice versa, which is essential for feeding the text data into the LSTM model.\n",
        "words = text.split()\n",
        "vocab = set(words)\n",
        "word_to_index = {word: i for i, word in enumerate(vocab)}\n",
        "index_to_word = {i: word for i, word in enumerate(vocab)}\n",
        "\n",
        "\n",
        "\n",
        "# Create sequences\n",
        "#Generates sequences of 3 words plus the next word (i.e., the target) for training.\n",
        "#For example, if seq_length is 3, the sequence might look like [\"hello\", \"world\", \"this\"] with the target [\"is\"].\n",
        "seq_length = 3\n",
        "sequences = []\n",
        "for i in range(len(words) - seq_length):\n",
        "    sequences.append(words[i:i + seq_length + 1])\n",
        "\n",
        "# Encode sequences\n",
        "#Converts the word sequences into sequences of integers using the word-to-index mapping.\n",
        "#Splits the sequences into inputs X (the first 3 words) and targets y (the 4th word).\n",
        "encoded_sequences = np.array([[word_to_index[word] for word in seq] for seq in sequences])\n",
        "\n",
        "\n",
        "\n",
        "# Split into inputs and targets\n",
        "X, y = encoded_sequences[:, :-1], encoded_sequences[:, -1]\n",
        "\n",
        "\n",
        "# Convert to PyTorch tensors\n",
        "X = torch.LongTensor(X)\n",
        "y = torch.LongTensor(y)\n",
        "\n",
        "# Create a simple dataset\n",
        "#Defines a custom dataset class that PyTorch can use to handle batches of data.\n",
        "#The DataLoader is used to iterate through the dataset in small batches during training.\n",
        "class TextDataset(Dataset):\n",
        "    def __init__(self, X, y):\n",
        "        self.X = X\n",
        "        self.y = y\n",
        "\n",
        "    def __len__(self):\n",
        "        return len(self.X)\n",
        "\n",
        "    def __getitem__(self, idx):\n",
        "        return self.X[idx], self.y[idx]\n",
        "\n",
        "dataset = TextDataset(X, y)\n",
        "dataloader = DataLoader(dataset, batch_size=2, shuffle=True)\n",
        "\n",
        "# Define the LSTM model\n",
        "class LSTMModel(nn.Module):\n",
        "    def __init__(self, vocab_size, embed_size, hidden_size):\n",
        "        super(LSTMModel, self).__init__()\n",
        "        self.embedding = nn.Embedding(vocab_size, embed_size)\n",
        "        self.lstm = nn.LSTM(embed_size, hidden_size, batch_first=True)\n",
        "        self.fc = nn.Linear(hidden_size, vocab_size)\n",
        "\n",
        "    def forward(self, x):\n",
        "        x = self.embedding(x)\n",
        "        lstm_out, _ = self.lstm(x)\n",
        "        out = self.fc(lstm_out[:, -1, :])\n",
        "        return out\n",
        "\n",
        "# Model parameters\n",
        "vocab_size = len(vocab)\n",
        "embed_size = 10\n",
        "hidden_size = 50\n",
        "\n",
        "model = LSTMModel(vocab_size, embed_size, hidden_size)\n",
        "criterion = nn.CrossEntropyLoss()\n",
        "optimizer = optim.Adam(model.parameters(), lr=0.01)\n",
        "\n",
        "# Train the model\n",
        "#The model is trained over 200 epochs.\n",
        "#For each epoch, it processes each batch of data, computes the loss using cross-entropy, and updates the model's parameters using the Adam optimizer.\n",
        "#Every 50 epochs, it prints out the training loss to monitor progress.\n",
        "num_epochs = 200\n",
        "for epoch in range(num_epochs):\n",
        "    for inputs, targets in dataloader:\n",
        "        optimizer.zero_grad()\n",
        "        outputs = model(inputs)\n",
        "        loss = criterion(outputs, targets)\n",
        "        loss.backward()\n",
        "        optimizer.step()\n",
        "\n",
        "    if (epoch + 1) % 50 == 0:\n",
        "        print(f'Epoch {epoch+1}/{num_epochs}, Loss: {loss.item():.4f}')\n",
        "\n",
        "# Text generation\n",
        "#This function generates new text by starting with a given sequence and predicting the next word iteratively.\n",
        "#It uses the trained model to predict the next word, appends it to the sequence, and continues until it generates the desired number of words.\n",
        "#The generated text is then printed\n",
        "def generate_text(model, start_sequence, num_words):\n",
        "    model.eval()\n",
        "    current_seq = torch.LongTensor([word_to_index[word] for word in start_sequence])\n",
        "\n",
        "    generated_text = start_sequence.copy()\n",
        "    with torch.no_grad():\n",
        "        for _ in range(num_words):\n",
        "            output = model(current_seq.unsqueeze(0))\n",
        "            predicted_word_index = torch.argmax(output, dim=1).item()\n",
        "            predicted_word = index_to_word[predicted_word_index]\n",
        "            generated_text.append(predicted_word)\n",
        "            current_seq = torch.cat([current_seq[1:], torch.LongTensor([predicted_word_index])])\n",
        "\n",
        "    return ' '.join(generated_text)\n",
        "\n",
        "start_sequence = ['this', 'is', 'a']\n",
        "generated_text = generate_text(model, start_sequence, num_words=5)\n",
        "print(\"Generated text:\", generated_text)\n"
      ],
      "metadata": {
        "colab": {
          "base_uri": "https://localhost:8080/"
        },
        "id": "LHm_gZoIpHFI",
        "outputId": "0319be67-f59b-482a-a8af-8253ba38bb3e"
      },
      "execution_count": 5,
      "outputs": [
        {
          "output_type": "stream",
          "name": "stdout",
          "text": [
            "Epoch 50/200, Loss: 0.0016\n",
            "Epoch 100/200, Loss: 0.0003\n",
            "Epoch 150/200, Loss: 0.0002\n",
            "Epoch 200/200, Loss: 0.0002\n",
            "Generated text: this is a simple example of an lstm\n"
          ]
        }
      ]
    },
    {
      "cell_type": "markdown",
      "source": [],
      "metadata": {
        "id": "Ia7IGhp7pYZ6"
      }
    },
    {
      "cell_type": "markdown",
      "source": [],
      "metadata": {
        "id": "BjOV02JdpZw2"
      }
    }
  ]
}